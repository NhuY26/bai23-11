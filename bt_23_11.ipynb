{
  "nbformat": 4,
  "nbformat_minor": 0,
  "metadata": {
    "colab": {
      "name": "bt-23-11.ipynb",
      "provenance": [],
      "authorship_tag": "ABX9TyM35pbQXD7Ng+anb40LG+5B",
      "include_colab_link": true
    },
    "kernelspec": {
      "name": "python3",
      "display_name": "Python 3"
    },
    "language_info": {
      "name": "python"
    }
  },
  "cells": [
    {
      "cell_type": "markdown",
      "metadata": {
        "id": "view-in-github",
        "colab_type": "text"
      },
      "source": [
        "<a href=\"https://colab.research.google.com/github/NhuY26/bai23-11/blob/main/bt_23_11.ipynb\" target=\"_parent\"><img src=\"https://colab.research.google.com/assets/colab-badge.svg\" alt=\"Open In Colab\"/></a>"
      ]
    },
    {
      "cell_type": "code",
      "metadata": {
        "id": "kG8KZHGGFb2a"
      },
      "source": [
        "#1\n",
        "def outputsomthing():\n",
        "  print(\" lập trình Java 2021 \")"
      ],
      "execution_count": 5,
      "outputs": []
    },
    {
      "cell_type": "code",
      "metadata": {
        "colab": {
          "base_uri": "https://localhost:8080/"
        },
        "id": "P1b6V48WHjO0",
        "outputId": "a483b4e4-cb46-4e6c-8e0f-54c81982b53d"
      },
      "source": [
        "#2\n",
        "def In(strg):\n",
        "    print(strg)\n",
        "\n",
        "def main():\n",
        "    strg = input(\"Nhập gì đó : \")\n",
        "    print(\"Bài 2: \", end = \" \")\n",
        "    In(strg)\n",
        "\n",
        "if __name__== \"__main__\":\n",
        "    main()"
      ],
      "execution_count": 7,
      "outputs": [
        {
          "output_type": "stream",
          "name": "stdout",
          "text": [
            "Nhập gì đó : hi meow meow\n",
            "Bài 2:  hi meow meow\n"
          ]
        }
      ]
    },
    {
      "cell_type": "code",
      "metadata": {
        "colab": {
          "base_uri": "https://localhost:8080/"
        },
        "id": "jOnE7m-hIPxh",
        "outputId": "7fe8159b-9ebd-4abb-a75c-6a798bd3feb3"
      },
      "source": [
        "#4\n",
        "def NhapHeSo():\n",
        "    a = float(input(\"Nhập hệ số a: \"))\n",
        "    b = float(input(\"Nhập hệ số b: \"))\n",
        "    return a, b\n",
        "\n",
        "def GiaiPTBac1(a, b):\n",
        "    if(a == 0):\n",
        "        if(b == 0):\n",
        "            print(\"Vô số nghiệm!\")\n",
        "        else:\n",
        "            print(\"Vô nghiệm!\")\n",
        "    else:\n",
        "        print(\"Phương trình có nghiệm x =\", -b/a)\n",
        "\n",
        "def main():\n",
        "    a, b = NhapHeSo()\n",
        "    GiaiPTBac1(a, b)\n",
        "\n",
        "if __name__== \"__main__\":\n",
        "    main()"
      ],
      "execution_count": 14,
      "outputs": [
        {
          "output_type": "stream",
          "name": "stdout",
          "text": [
            "Nhập hệ số a: 25\n",
            "Nhập hệ số b: 10\n",
            "Phương trình có nghiệm x = -0.4\n"
          ]
        }
      ]
    },
    {
      "cell_type": "code",
      "metadata": {
        "colab": {
          "base_uri": "https://localhost:8080/"
        },
        "id": "uhiNEgvVKV_l",
        "outputId": "c916c1b4-c6e8-470e-a7fe-9b1cf692f3c5"
      },
      "source": [
        "#5import Bai4\n",
        "import math\n",
        "\n",
        "def NhapHeSo():\n",
        "    a = float(input(\"Nhập hệ số a: \"))\n",
        "    b = float(input(\"Nhập hệ số b: \"))\n",
        "    c = float(input(\"Nhập hệ số c: \"))\n",
        "    return a, b, c\n",
        "\n",
        "def GiaiPTBac2(a, b, c):\n",
        "    if (a == 0):\n",
        "        if (b == 0):\n",
        "            print(\"Phương trình vô nghiệm!\")\n",
        "        else:\n",
        "            Bai4.GiaiPTBac1(b, c)\n",
        "\n",
        "    delta = b * b - 4 * a * c\n",
        "    if (delta > 0):\n",
        "        x1 = (float)((-b + math.sqrt(delta)) / (2 * a))\n",
        "        x2 = (float)((-b - math.sqrt(delta)) / (2 * a));\n",
        "        print(\"Phương trình có 2 nghiệm là: x1 = \", x1, \" và x2 = \", x2)\n",
        "    elif (delta == 0):\n",
        "        x1 = (-b / (2 * a))\n",
        "        print(\"Phương trình có nghiệm kép: x1 = x2 = \", x1)\n",
        "    else:\n",
        "        print(\"Phương trình vô nghiệm!\")\n",
        "\n",
        "def main():\n",
        "    a, b, c = NhapHeSo()\n",
        "    GiaiPTBac2(a, b, c)\n",
        "\n",
        "if __name__== \"__main__\":\n",
        "    main()"
      ],
      "execution_count": 15,
      "outputs": [
        {
          "output_type": "stream",
          "name": "stdout",
          "text": [
            "Nhập hệ số a: 25\n",
            "Nhập hệ số b: 10\n",
            "Nhập hệ số c: 03\n",
            "Phương trình vô nghiệm!\n"
          ]
        }
      ]
    }
  ]
}